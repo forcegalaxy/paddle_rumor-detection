{
 "cells": [
  {
   "cell_type": "markdown",
   "metadata": {},
   "source": [
    "# 一、项目背景介绍\n",
    "- 本项目主要是为了介绍RNN以及双向RNN，包含了模型结构、反向传播、梯度消失和梯度爆炸爆炸等知识点。为了便于理解，添加了一个实战项目——基于RNN以及其变体模型的谣言检测任务。实战项目使用了vanilla RNN，lstm，bilstm，gru，bigru五个模型来帮助初学者了解如何从零开始用RNN家族的模型进行文本分类任务。\n",
    "- 谣言检测任务属于文本分类任务。早期模型一般根据谣言的内容、用户属性、传播方式人工地构造特征，而人工构建特征存在考虑片面、浪费人力等现象。本次项目使用RNN家族的模型进行谣言检测，将文本中的谣言事件向量化，通过循环神经网络的学习训练来挖掘表示文本深层的特征，避免了特征构建的问题，并能发现那些不容易被人发现的特征，从而产生更好的效果。"
   ]
  },
  {
   "cell_type": "markdown",
   "metadata": {},
   "source": [
    "# 二、数据介绍\n",
    "\n",
    "## 2.1 数据集概览\n",
    "\n",
    "本次实践所使用的数据是从新浪微博不实信息举报平台抓取的中文谣言数据，数据集中共包含1538条谣言和1849条非谣言。如下图所示每条数据均为json格式，其中text字段代表微博原文的文字内容。\n",
    "\n",
    "\n",
    "\n",
    "\n",
    "\n",
    "\n",
    "\n",
    "\n",
    "\n",
    "\n",
    "![](https://ai-studio-static-online.cdn.bcebos.com/dafc017bd02948ada387e1a7e80d97ed1d4144f41a44441494441d69163e4091)\n",
    "\n",
    "\n",
    "\n",
    "\n",
    "\n",
    "\n",
    "\n",
    "\n",
    "\n",
    "\n",
    "\n",
    "\n",
    "\n",
    "\n"
   ]
  },
  {
   "cell_type": "markdown",
   "metadata": {},
   "source": [
    "## 2.2 数据集处理\n",
    "\n",
    "（1）解压数据，读取并解析数据，生成all_data.txt\n",
    "\n",
    "（2）生成数据字典，即dict.txt\n",
    "\n",
    "（3）生成数据列表，并进行训练集与验证集的划分，train_list.txt 、eval_list.txt\n",
    "\n",
    "（4）定义训练数据集提供器train_reader和验证数据集提供器eval_reader"
   ]
  },
  {
   "cell_type": "code",
   "execution_count": 1,
   "metadata": {
    "collapsed": false,
    "execution": {
     "iopub.execute_input": "2022-02-22T10:50:46.319009Z",
     "iopub.status.busy": "2022-02-22T10:50:46.318782Z",
     "iopub.status.idle": "2022-02-22T10:50:49.167259Z",
     "shell.execute_reply": "2022-02-22T10:50:49.166560Z",
     "shell.execute_reply.started": "2022-02-22T10:50:46.318974Z"
    },
    "jupyter": {
     "outputs_hidden": false
    },
    "scrolled": true
   },
   "outputs": [],
   "source": [
    "#解压原始数据集，将Rumor_Dataset.zip解压至data目录下\n",
    "import zipfile\n",
    "import os\n",
    "import random\n",
    "from PIL import Image\n",
    "from PIL import ImageEnhance\n",
    "import json\n",
    " \n",
    "src_path=\"/home/aistudio/data/data20519/Rumor_Dataset.zip\"\n",
    "target_path=\"/home/aistudio/data/Chinese_Rumor_Dataset-master\"\n",
    "if(not os.path.isdir(target_path)):\n",
    "    z = zipfile.ZipFile(src_path, 'r')\n",
    "    z.extractall(path=target_path)\n",
    "    z.close()"
   ]
  },
  {
   "cell_type": "code",
   "execution_count": 2,
   "metadata": {
    "collapsed": false,
    "execution": {
     "iopub.execute_input": "2022-02-22T10:50:49.170438Z",
     "iopub.status.busy": "2022-02-22T10:50:49.169694Z",
     "iopub.status.idle": "2022-02-22T10:50:49.308049Z",
     "shell.execute_reply": "2022-02-22T10:50:49.307452Z",
     "shell.execute_reply.started": "2022-02-22T10:50:49.170386Z"
    },
    "jupyter": {
     "outputs_hidden": false
    },
    "scrolled": true
   },
   "outputs": [
    {
     "name": "stdout",
     "output_type": "stream",
     "text": [
      "谣言数据总量为：1538\n",
      "非谣言数据总量为：1849\n"
     ]
    }
   ],
   "source": [
    "#分别为谣言数据、非谣言数据、全部数据的文件路径\n",
    "rumor_class_dirs = os.listdir(target_path+\"/Chinese_Rumor_Dataset-master/CED_Dataset/rumor-repost/\")\n",
    "non_rumor_class_dirs = os.listdir(target_path+\"/Chinese_Rumor_Dataset-master/CED_Dataset/non-rumor-repost/\")\n",
    "original_microblog = target_path+\"/Chinese_Rumor_Dataset-master/CED_Dataset/original-microblog/\"\n",
    "\n",
    "#谣言标签为0，非谣言标签为1\n",
    "rumor_label=\"0\"\n",
    "non_rumor_label=\"1\"\n",
    "\n",
    "#分别统计谣言数据与非谣言数据的总数\n",
    "rumor_num = 0\n",
    "non_rumor_num = 0\n",
    "\n",
    "all_rumor_list = []\n",
    "all_non_rumor_list = []\n",
    "\n",
    "\n",
    "#解析谣言数据\n",
    "for rumor_class_dir in rumor_class_dirs: \n",
    "    if(rumor_class_dir != '.DS_Store'):\n",
    "        #遍历谣言数据，并解析\n",
    "        with open(original_microblog + rumor_class_dir, 'r') as f:\n",
    "\t        rumor_content = f.read()\n",
    "        rumor_dict = json.loads(rumor_content)\n",
    "        all_rumor_list.append(rumor_label+\"\\t\"+rumor_dict[\"text\"]+\"\\n\")\n",
    "        rumor_num +=1\n",
    "\n",
    "\n",
    "#解析非谣言数据\n",
    "for non_rumor_class_dir in non_rumor_class_dirs: \n",
    "    if(non_rumor_class_dir != '.DS_Store'):\n",
    "        with open(original_microblog + non_rumor_class_dir, 'r') as f2:\n",
    "\t        non_rumor_content = f2.read()\n",
    "        non_rumor_dict = json.loads(non_rumor_content)\n",
    "        all_non_rumor_list.append(non_rumor_label+\"\\t\"+non_rumor_dict[\"text\"]+\"\\n\")\n",
    "        non_rumor_num +=1\n",
    "        \n",
    "print(\"谣言数据总量为：\"+str(rumor_num))\n",
    "print(\"非谣言数据总量为：\"+str(non_rumor_num))\n"
   ]
  },
  {
   "cell_type": "code",
   "execution_count": 3,
   "metadata": {
    "execution": {
     "iopub.execute_input": "2022-02-22T10:50:49.309510Z",
     "iopub.status.busy": "2022-02-22T10:50:49.309010Z",
     "iopub.status.idle": "2022-02-22T10:50:49.320335Z",
     "shell.execute_reply": "2022-02-22T10:50:49.319769Z",
     "shell.execute_reply.started": "2022-02-22T10:50:49.309476Z"
    },
    "scrolled": true
   },
   "outputs": [],
   "source": [
    "#全部数据进行乱序后写入all_data.txt\n",
    "\n",
    "data_list_path=\"/home/aistudio/data/\"\n",
    "all_data_path=data_list_path + \"all_data.txt\"\n",
    "\n",
    "all_data_list = all_rumor_list + all_non_rumor_list # 正负样本列表相加\n",
    "\n",
    "random.shuffle(all_data_list)  # 打乱list\n",
    "\n",
    "#在生成all_data.txt之前，首先将其清空\n",
    "with open(all_data_path, 'w') as f:\n",
    "    f.seek(0)\n",
    "    f.truncate() \n",
    "    \n",
    "with open(all_data_path, 'a') as f:\n",
    "    for data in all_data_list: # 按行写入，一行一个样本\n",
    "        f.write(data)\n",
    "\n",
    "# with open(all_data_path,'r',encoding='UTF-8') as f:\n",
    "#     print(f.read())\n"
   ]
  },
  {
   "cell_type": "code",
   "execution_count": 25,
   "metadata": {
    "execution": {
     "iopub.execute_input": "2022-02-22T11:48:23.383481Z",
     "iopub.status.busy": "2022-02-22T11:48:23.382996Z",
     "iopub.status.idle": "2022-02-22T11:48:23.405764Z",
     "shell.execute_reply": "2022-02-22T11:48:23.404963Z",
     "shell.execute_reply.started": "2022-02-22T11:48:23.383440Z"
    },
    "scrolled": true
   },
   "outputs": [],
   "source": [
    "# 导入必要的包\n",
    "%matplotlib inline\n",
    "import os\n",
    "from multiprocessing import cpu_count\n",
    "import numpy as np\n",
    "import shutil\n",
    "import paddle\n",
    "import paddle.fluid as fluid\n",
    "from PIL import Image\n",
    "import matplotlib.pyplot as plt\n",
    "plt.rcParams['font.sans-serif']=['SimHei'] #用来正常显示中文标签\n",
    "plt.rcParams['axes.unicode_minus']=False   #用来正常显示负号\n",
    "from matplotlib.font_manager import FontProperties\n",
    "font = FontProperties(fname='simhei.ttf', size=16) "
   ]
  },
  {
   "cell_type": "code",
   "execution_count": 5,
   "metadata": {
    "collapsed": false,
    "execution": {
     "iopub.execute_input": "2022-02-22T10:50:51.196386Z",
     "iopub.status.busy": "2022-02-22T10:50:51.195809Z",
     "iopub.status.idle": "2022-02-22T10:50:51.279091Z",
     "shell.execute_reply": "2022-02-22T10:50:51.278391Z",
     "shell.execute_reply.started": "2022-02-22T10:50:51.196304Z"
    },
    "jupyter": {
     "outputs_hidden": false
    },
    "scrolled": true
   },
   "outputs": [
    {
     "name": "stdout",
     "output_type": "stream",
     "text": [
      "数据字典生成完成！\n"
     ]
    },
    {
     "data": {
      "text/plain": [
       "4410"
      ]
     },
     "execution_count": 5,
     "metadata": {},
     "output_type": "execute_result"
    }
   ],
   "source": [
    "# all_data_path= data_list_path + \"all_data.txt\"\n",
    "# data_list_path=\"/home/aistudio/data/\"\n",
    "# dict_path = data_list_path + \"dict.txt\"\n",
    "# 生成数据字典\n",
    "def create_dict(data_path, dict_path):\n",
    "    dict_set = set()  # 创建一个无序不重复元素集,集合\n",
    "    # 读取全部数据\n",
    "    with open(data_path, 'r', encoding='utf-8') as f:\n",
    "        lines = f.readlines()\n",
    "    # with open('data/test_lines.txt', 'w', encoding='utf-8') as f:\n",
    "    #     f.write(str(lines))\n",
    "        #print(lines)\n",
    "    # 把数据生成一个元组\n",
    "    for line in lines:\n",
    "        content = line.split('\\t')[-1].replace('\\n', '') \n",
    "        # 以\\t为分隔符，取最后一段。去掉每一行的换行符\n",
    "        # print(line,content)\n",
    "        for s in content:\n",
    "            dict_set.add(s)\n",
    "            # print(s,dict_set)  #将每一个字加入到一个无序不重复元素集中（元组）\n",
    "    # 把集合转换成字典，一个字对应一个数字\n",
    "    dict_list = []\n",
    "    i = 0\n",
    "    for s in dict_set:\n",
    "        dict_list.append([s, i])\n",
    "        i += 1\n",
    "    # print(dict_list)\n",
    "    # 添加未知字符\n",
    "    dict_txt = dict(dict_list) # list转字典\n",
    "    end_dict = {\"<unk>\": i}\n",
    "    dict_txt.update(end_dict)\n",
    "    # 把这些字典保存到本地中\n",
    "    with open(dict_path, 'w', encoding='utf-8') as f:\n",
    "        f.write(str(dict_txt))\n",
    "    print(\"数据字典生成完成！\")\n",
    "    \n",
    "    \n",
    "# 获取字典的长度\n",
    "def get_dict_len(dict_path):\n",
    "    with open(dict_path, 'r', encoding='utf-8') as f:\n",
    "        line = eval(f.readlines()[0])\n",
    "    return len(line.keys())\n",
    "\n",
    "create_dict('data/all_data.txt','data/dict.txt')\n",
    "get_dict_len('data/dict.txt')"
   ]
  },
  {
   "cell_type": "code",
   "execution_count": 6,
   "metadata": {
    "collapsed": false,
    "execution": {
     "iopub.execute_input": "2022-02-22T10:50:51.280571Z",
     "iopub.status.busy": "2022-02-22T10:50:51.280125Z",
     "iopub.status.idle": "2022-02-22T10:50:51.461112Z",
     "shell.execute_reply": "2022-02-22T10:50:51.460485Z",
     "shell.execute_reply.started": "2022-02-22T10:50:51.280543Z"
    },
    "jupyter": {
     "outputs_hidden": false
    },
    "scrolled": true
   },
   "outputs": [
    {
     "name": "stdout",
     "output_type": "stream",
     "text": [
      "数据列表生成完成！\n"
     ]
    }
   ],
   "source": [
    "# 创建序列化表示的数据,并按照一定比例划分训练数据与验证数据\n",
    "def create_data_list(data_list_path):\n",
    "    #在生成数据之前，首先将eval_list.txt和train_list.txt清空\n",
    "    with open(os.path.join(data_list_path, 'eval_list.txt'), 'w', encoding='utf-8') as f_eval:\n",
    "        f_eval.seek(0)\n",
    "        f_eval.truncate()\n",
    "        \n",
    "    with open(os.path.join(data_list_path, 'train_list.txt'), 'w', encoding='utf-8') as f_train:\n",
    "        f_train.seek(0)\n",
    "        f_train.truncate() \n",
    "    \n",
    "    with open(os.path.join(data_list_path, 'dict.txt'), 'r', encoding='utf-8') as f_data:\n",
    "        dict_txt = eval(f_data.readlines()[0])\n",
    "    # print(dict_txt)\n",
    "\n",
    "    with open(os.path.join(data_list_path, 'all_data.txt'), 'r', encoding='utf-8') as f_data:\n",
    "        lines = f_data.readlines()\n",
    "    # print(lines)\n",
    "\n",
    "    i = 0\n",
    "    with open(os.path.join(data_list_path, 'eval_list.txt'), 'a', encoding='utf-8') as f_eval,open(os.path.join(data_list_path, 'train_list.txt'), 'a', encoding='utf-8') as f_train:\n",
    "        for line in lines:\n",
    "            # print(line)\n",
    "            words = line.split('\\t')[-1].replace('\\n', '')\n",
    "            label = line.split('\\t')[0]\n",
    "            labs = \"\"\n",
    "            if i % 8 == 0:\n",
    "                for s in words:\n",
    "                    lab = str(dict_txt[s])\n",
    "                    labs = labs + lab + ','\n",
    "                labs = labs[:-1]\n",
    "                labs = labs + '\\t' + label + '\\n'\n",
    "                f_eval.write(labs)\n",
    "            else:\n",
    "                for s in words:\n",
    "                    lab = str(dict_txt[s])\n",
    "                    labs = labs + lab + ','\n",
    "                labs = labs[:-1]\n",
    "                labs = labs + '\\t' + label + '\\n'\n",
    "                f_train.write(labs)\n",
    "            i += 1\n",
    "        \n",
    "    print(\"数据列表生成完成！\")\n",
    "create_data_list('/home/aistudio/data/')"
   ]
  },
  {
   "cell_type": "code",
   "execution_count": 7,
   "metadata": {
    "collapsed": false,
    "execution": {
     "iopub.execute_input": "2022-02-22T10:50:51.462660Z",
     "iopub.status.busy": "2022-02-22T10:50:51.462185Z",
     "iopub.status.idle": "2022-02-22T10:50:51.690292Z",
     "shell.execute_reply": "2022-02-22T10:50:51.689707Z",
     "shell.execute_reply.started": "2022-02-22T10:50:51.462631Z"
    },
    "jupyter": {
     "outputs_hidden": false
    },
    "scrolled": true
   },
   "outputs": [
    {
     "name": "stdout",
     "output_type": "stream",
     "text": [
      "数据字典生成完成！\n",
      "数据列表生成完成！\n"
     ]
    }
   ],
   "source": [
    "#dict_path为数据字典存放路径\n",
    "#all_data_path= data_list_path + \"all_data.txt\"\n",
    "#data_list_path=\"/home/aistudio/data/\"\n",
    "dict_path = data_list_path + \"dict.txt\"\n",
    "\n",
    "#创建数据字典，存放位置：dict.txt。在生成之前先清空dict.txt\n",
    "with open(dict_path, 'w') as f:\n",
    "    f.seek(0)\n",
    "    f.truncate() \n",
    "create_dict(all_data_path, dict_path)\n",
    "\n",
    "#创建数据列表，存放位置：train_list.txt eval_list.txt\n",
    "create_data_list(data_list_path)\n",
    "    "
   ]
  },
  {
   "cell_type": "code",
   "execution_count": 8,
   "metadata": {
    "collapsed": false,
    "execution": {
     "iopub.execute_input": "2022-02-22T10:50:51.691793Z",
     "iopub.status.busy": "2022-02-22T10:50:51.691333Z",
     "iopub.status.idle": "2022-02-22T10:50:51.696717Z",
     "shell.execute_reply": "2022-02-22T10:50:51.696130Z",
     "shell.execute_reply.started": "2022-02-22T10:50:51.691765Z"
    },
    "jupyter": {
     "outputs_hidden": false
    },
    "scrolled": true
   },
   "outputs": [],
   "source": [
    "def data_mapper(sample):\n",
    "    data, label = sample\n",
    "    data = [int(data) for data in data.split(',')]\n",
    "    return data, int(label)\n",
    "\n",
    "#定义数据读取器\n",
    "def data_reader(data_path):\n",
    "    def reader():\n",
    "        with open(data_path, 'r') as f:\n",
    "            lines = f.readlines()\n",
    "            for line in lines:\n",
    "                data, label = line.split('\\t')\n",
    "                yield data, label\n",
    "    return paddle.reader.xmap_readers(data_mapper, reader, cpu_count(), 1024)"
   ]
  },
  {
   "cell_type": "code",
   "execution_count": 9,
   "metadata": {
    "collapsed": false,
    "execution": {
     "iopub.execute_input": "2022-02-22T10:50:51.697930Z",
     "iopub.status.busy": "2022-02-22T10:50:51.697702Z",
     "iopub.status.idle": "2022-02-22T10:50:51.701743Z",
     "shell.execute_reply": "2022-02-22T10:50:51.701084Z",
     "shell.execute_reply.started": "2022-02-22T10:50:51.697909Z"
    },
    "jupyter": {
     "outputs_hidden": false
    },
    "scrolled": true
   },
   "outputs": [],
   "source": [
    "# 获取训练数据读取器和测试数据读取器\n",
    "# data_list_path=\"/home/aistudio/data/\"\n",
    "BATCH_SIZE = 256\n",
    "\n",
    "train_list_path = data_list_path+'train_list.txt'\n",
    "eval_list_path = data_list_path+'eval_list.txt'\n",
    "\n",
    "train_reader = paddle.batch(\n",
    "\t\treader=data_reader(train_list_path), \n",
    "\t\tbatch_size=BATCH_SIZE)\n",
    "eval_reader = paddle.batch(\n",
    "\t\treader=data_reader(eval_list_path), \n",
    "\t\tbatch_size=BATCH_SIZE)"
   ]
  },
  {
   "cell_type": "markdown",
   "metadata": {},
   "source": [
    "## 2.3 数据统计分析"
   ]
  },
  {
   "cell_type": "code",
   "execution_count": 37,
   "metadata": {
    "execution": {
     "iopub.execute_input": "2022-02-22T12:05:16.416118Z",
     "iopub.status.busy": "2022-02-22T12:05:16.415188Z",
     "iopub.status.idle": "2022-02-22T12:05:16.422356Z",
     "shell.execute_reply": "2022-02-22T12:05:16.421632Z",
     "shell.execute_reply.started": "2022-02-22T12:05:16.416080Z"
    },
    "scrolled": true
   },
   "outputs": [
    {
     "name": "stdout",
     "output_type": "stream",
     "text": [
      "1\t没有节目，没有礼物，只有一句饱含深情的祝福，苗圃，生日快乐！[蛋糕]你已经拥有了人生最好的礼物，我们不跟他（她）争宠[得意地笑]。最好的祝福送给你们！健康！平安！[爱你]\n",
      "1\t有人说，旋转木马是世界上最残忍的游戏，彼此追逐，却怀着永恒的距离。\n",
      "0\t【虐童幼师疑似微博骂网友】颜艳红：我已经反省完了，公安局也让我交5000元罚款姐都交完了，没姐什么事了，你们这些没素质的人就爱骂骂吧，洗澡睡觉，没人搭理你们了，一群没素质没教养的人，祝你们早日车祸撞死。这些绯言绯语，根本不是人话，也不是你们家的孩子，公安局处罚我也交了，有你们什么事呢\n",
      "0\t最新消息，庐山大部分老房子已经坍塌，已有伤亡，成都双流机场一度关闭，为了缓解交通，没紧急事不要前往雅安。四川雅安庐山县地区非紧急情况请尽量少使用移动电话，保证紧急通讯通畅。求扩散！[话筒] [蜡烛]\n",
      "1\t你是不是总是会为了某人而不断地修改自己的底线？不停地为某人找借口，不停地想去原谅……可是，傻孩子，其实TA没那么喜欢你。\n",
      "0\t大家切記！別亂溝女 ..好恐怖好恐怖[吃惊]～@四眼妹Ade 投稿 【更多情侣事，推荐关注@粤语情感线】\n",
      "0\t【7.6万箱含氯可口可乐流入市场】2月初，可口可乐山西饮料公司因管道改造，致使消毒用的含氯处理水混入9批次12万箱可口可乐中，目前确认76391箱流入市场。山西质监局调查事件时发现，该公司以维修电脑为由删除了2月4日到8日部分相关生产记录和全部电邮，关键证人被安排带薪休假。http://t.cn/zY4kOZE\n",
      "0\t[话筒]各位，中央电视台《焦点访谈》已经播出,可口可乐承认旗下[果粒橙]含有美国禁用农药「多菌灵」,现包括香港正在销售的[果粒橙]香港食环署正在了解此事件.专家指出[多菌灵]跟其他农药一样,对脑部影响最大,可引致局部麻痹,并会导致癌症。[心]请火速转给你的朋友，不要给孩子们喝这种饮料 。转\n",
      "0\t✈  经常坐飞机的朋友们：今天才知道，原来20元航空意外保险能赔延误。买机票时购买的20元保险，很多是包含延误险的，飞机延误4小时以上可获得赔偿2000；延误8小时可获赔偿3000元。但是大多数乘客都不知道自己有这些权益，白白的把保费送给了保险公司，个必须转。 很是实用。\n",
      "1\t女人最幸福的时刻，就是嫁对了老公，他纵容着你的习惯，爱着你的一切；女人最幸福的时刻，就是朋友的真心相对，在你最无助时，伸出温暖的手；女人最幸福的时刻，就是无论长多么大，在父母那里，依然是孩子，陶醉在父母为你准备的一切，安心地享受着他的唠唠叨叨！@几米漫画集\n"
     ]
    }
   ],
   "source": [
    "# jieba分词\r\n",
    "import jieba\r\n",
    "import re\r\n",
    "with open('data/all_data.txt', mode='r', encoding='utf-8') as f:\r\n",
    "    for i in range(10): \r\n",
    "        \r\n",
    "        print(f.readline().strip())\r\n",
    "    # text = f.read()\r\n",
    "    # a=re.findall(\"[\\u4e00-\\u9fa5 \\n ，。！？：‘’“”【】@]\", text)  #数据清洗 只留下正文\r\n",
    "    # text=\"\".join(a)  # 连接字符串\r\n",
    "    \r\n",
    "    # print(a)   \r\n",
    "    # seg_list = jieba.cut(text, cut_all=True)    \r\n",
    "    # print(\"[Full Mode]\" + \"/ \".join(seg_list))     # 全模式\r\n",
    "\r\n",
    "    # seg_list = jieba.cut(text, cut_all=False)\r\n",
    "    # print(\"[Default Mode]\" + \"/ \".join(seg_list))  # 精确模式\r\n",
    "\r\n",
    "    # seg_list = jieba.cut_for_search(text)          # 搜索引擎模式\r\n",
    "    # print(\"[Search Mode]\" + \"/ \".join(seg_list))"
   ]
  },
  {
   "cell_type": "code",
   "execution_count": 50,
   "metadata": {
    "execution": {
     "iopub.execute_input": "2022-02-22T12:17:14.422564Z",
     "iopub.status.busy": "2022-02-22T12:17:14.421609Z",
     "iopub.status.idle": "2022-02-22T12:17:14.435787Z",
     "shell.execute_reply": "2022-02-22T12:17:14.435060Z",
     "shell.execute_reply.started": "2022-02-22T12:17:14.422527Z"
    },
    "scrolled": true
   },
   "outputs": [
    {
     "name": "stdout",
     "output_type": "stream",
     "text": [
      "[Full Mode]1/ / \t/ / 没有/ 节目/ ，/ 没有/ 礼物/ ，/ 只有/ 一句/ 饱含/ 深情/ 的/ 祝福/ ，/ 苗圃/ ，/ 生日/ 生日快乐/ 快乐/ ！[/ 蛋糕/ ]/ 你/ 已经/ 拥有/ 了/ 人生/ 最好/ 的/ 礼物/ ，/ 我们/ 不/ 跟/ 他/ （/ 她/ ）/ 争宠/ [/ 得意/ 地/ 笑/ ]。/ 最好/ 的/ 祝福/ 送给/ 你们/ ！/ 健康/ ！/ 平安/ ！[/ 爱/ 你/ ]\n",
      "[Default Mode]1/ \t/ 没有/ 节目/ ，/ 没有/ 礼物/ ，/ 只有/ 一句/ 饱含/ 深情/ 的/ 祝福/ ，/ 苗圃/ ，/ 生日快乐/ ！/ [/ 蛋糕/ ]/ 你/ 已经/ 拥有/ 了/ 人生/ 最好/ 的/ 礼物/ ，/ 我们/ 不/ 跟/ 他/ （/ 她/ ）/ 争宠/ [/ 得意/ 地笑/ ]/ 。/ 最好/ 的/ 祝福/ 送给/ 你们/ ！/ 健康/ ！/ 平安/ ！/ [/ 爱/ 你/ ]\n",
      "[Search Mode]1/ \t/ 没有/ 节目/ ，/ 没有/ 礼物/ ，/ 只有/ 一句/ 饱含/ 深情/ 的/ 祝福/ ，/ 苗圃/ ，/ 生日/ 快乐/ 生日快乐/ ！/ [/ 蛋糕/ ]/ 你/ 已经/ 拥有/ 了/ 人生/ 最好/ 的/ 礼物/ ，/ 我们/ 不/ 跟/ 他/ （/ 她/ ）/ 争宠/ [/ 得意/ 地笑/ ]/ 。/ 最好/ 的/ 祝福/ 送给/ 你们/ ！/ 健康/ ！/ 平安/ ！/ [/ 爱/ 你/ ]\n",
      "[Full Mode]1/ / \t/ / 有人/ 说/ ，/ 旋转/ 木马/ 是/ 世界/ 上/ 最/ 残忍/ 的/ 游戏/ ，/ 彼此/ 追逐/ ，/ 却/ 怀着/ 永恒/ 的/ 距离/ 。\n",
      "[Default Mode]1/ \t/ 有人/ 说/ ，/ 旋转/ 木马/ 是/ 世界/ 上/ 最/ 残忍/ 的/ 游戏/ ，/ 彼此/ 追逐/ ，/ 却/ 怀着/ 永恒/ 的/ 距离/ 。\n",
      "[Search Mode]1/ \t/ 有人/ 说/ ，/ 旋转/ 木马/ 是/ 世界/ 上/ 最/ 残忍/ 的/ 游戏/ ，/ 彼此/ 追逐/ ，/ 却/ 怀着/ 永恒/ 的/ 距离/ 。\n",
      "[Full Mode]0/ / \t/ 【/ 虐/ 童/ 幼师/ 疑似/ 微/ 博/ 骂/ 网友/ 】/ 颜/ 艳红/ ：/ 我/ 已经/ 反省/ 完/ 了/ ，/ 公安/ 公安局/ 也/ 让/ 我/ 交/ 5000/ 元/ 罚款/ 款姐/ 都/ 交完/ 了/ ，/ 没/ 姐/ 什么/ 事/ 了/ ，/ 你们/ 这些/ 没/ 素质/ 的/ 人/ 就/ 爱/ 骂骂/ 吧/ ，/ 洗澡/ 睡觉/ ，/ 没人/ 搭理/ 你们/ 了/ ，/ 一群/ 没/ 素质/ 没教养/ 教养/ 的/ 人/ ，/ 祝你们/ 你们/ 早日/ 车祸/ 撞死/ 。/ 这些/ 绯/ 言/ 绯/ 语/ ，/ 根本/ 不是/ 人话/ ，/ 也/ 不是/ 你们/ 家/ 的/ 孩子/ ，/ 公安/ 公安局/ 处罚/ 我/ 也/ 交/ 了/ ，/ 有/ 你们/ 什么/ 事/ 呢\n",
      "[Default Mode]0/ \t/ 【/ 虐童/ 幼师/ 疑似/ 微博骂/ 网友/ 】/ 颜/ 艳红/ ：/ 我/ 已经/ 反省/ 完/ 了/ ，/ 公安局/ 也/ 让/ 我/ 交/ 5000/ 元/ 罚款/ 姐/ 都/ 交完/ 了/ ，/ 没姐/ 什么/ 事/ 了/ ，/ 你们/ 这些/ 没/ 素质/ 的/ 人/ 就/ 爱/ 骂骂/ 吧/ ，/ 洗澡/ 睡觉/ ，/ 没/ 人/ 搭理/ 你们/ 了/ ，/ 一群/ 没/ 素质/ 没教养/ 的/ 人/ ，/ 祝你们/ 早日/ 车祸/ 撞死/ 。/ 这些/ 绯言/ 绯语/ ，/ 根本/ 不是/ 人/ 话/ ，/ 也/ 不是/ 你们/ 家/ 的/ 孩子/ ，/ 公安局/ 处罚/ 我/ 也/ 交/ 了/ ，/ 有/ 你们/ 什么/ 事/ 呢\n",
      "[Search Mode]0/ \t/ 【/ 虐童/ 幼师/ 疑似/ 微博骂/ 网友/ 】/ 颜/ 艳红/ ：/ 我/ 已经/ 反省/ 完/ 了/ ，/ 公安/ 公安局/ 也/ 让/ 我/ 交/ 5000/ 元/ 罚款/ 姐/ 都/ 交完/ 了/ ，/ 没姐/ 什么/ 事/ 了/ ，/ 你们/ 这些/ 没/ 素质/ 的/ 人/ 就/ 爱/ 骂骂/ 吧/ ，/ 洗澡/ 睡觉/ ，/ 没/ 人/ 搭理/ 你们/ 了/ ，/ 一群/ 没/ 素质/ 教养/ 没教养/ 的/ 人/ ，/ 你们/ 祝你们/ 早日/ 车祸/ 撞死/ 。/ 这些/ 绯言/ 绯语/ ，/ 根本/ 不是/ 人/ 话/ ，/ 也/ 不是/ 你们/ 家/ 的/ 孩子/ ，/ 公安/ 公安局/ 处罚/ 我/ 也/ 交/ 了/ ，/ 有/ 你们/ 什么/ 事/ 呢\n",
      "[Full Mode]0/ / \t/ / 最新/ 最新消息/ 消息/ ，/ 庐山/ 山大/ 大部/ 大部分/ 部分/ 老房/ 老房子/ 房子/ 已经/ 坍塌/ ，/ 已有/ 有伤/ 伤亡/ ，/ 成都/ 成都双流机场/ 双流/ 机场/ 一度/ 关闭/ ，/ 为了/ 缓解/ 解交/ 交通/ ，/ 没/ 紧急/ 急事/ 不要/ 前往/ 雅安/ 。/ 四川/ 雅安/ 庐山/ 山县/ 地区/ 非/ 紧急/ 紧急情况/ 急情/ 情况/ 请/ 尽量/ 尽量少/ 使用/ 移动/ 移动电话/ 电话/ ，/ 保证/ 紧急/ 通讯/ 讯通/ 通畅/ 。/ 求/ 扩散/ ！[/ 话筒/ ]/  / [/ 蜡烛/ ]\n",
      "[Default Mode]0/ \t/ 最新消息/ ，/ 庐山/ 大部分/ 老房子/ 已经/ 坍塌/ ，/ 已有/ 伤亡/ ，/ 成都双流机场/ 一度/ 关闭/ ，/ 为了/ 缓解/ 交通/ ，/ 没/ 紧急/ 事/ 不要/ 前往/ 雅安/ 。/ 四川/ 雅安/ 庐山/ 县/ 地区/ 非/ 紧急情况/ 请/ 尽量少/ 使用/ 移动电话/ ，/ 保证/ 紧急/ 通讯/ 通畅/ 。/ 求/ 扩散/ ！/ [/ 话筒/ ]/  / [/ 蜡烛/ ]\n",
      "[Search Mode]0/ \t/ 最新/ 消息/ 最新消息/ ，/ 庐山/ 大部/ 部分/ 大部分/ 老房/ 房子/ 老房子/ 已经/ 坍塌/ ，/ 已有/ 伤亡/ ，/ 成都/ 双流/ 机场/ 成都双流机场/ 一度/ 关闭/ ，/ 为了/ 缓解/ 交通/ ，/ 没/ 紧急/ 事/ 不要/ 前往/ 雅安/ 。/ 四川/ 雅安/ 庐山/ 县/ 地区/ 非/ 紧急/ 急情/ 情况/ 紧急情况/ 请/ 尽量/ 尽量少/ 使用/ 移动/ 电话/ 移动电话/ ，/ 保证/ 紧急/ 通讯/ 通畅/ 。/ 求/ 扩散/ ！/ [/ 话筒/ ]/  / [/ 蜡烛/ ]\n",
      "[Full Mode]1/ / \t/ / 你/ 是不是/ 不是/ 总是/ 会/ 为了/ 某人/ 而/ 不断/ 地/ 修改/ 改自/ 自己/ 的/ 底线/ ？/ 不停/ 地/ 为/ 某人/ 找/ 借口/ ，/ 不停/ 地/ 想去/ 原谅/ ……/ 可是/ ，/ 傻/ 孩子/ ，/ 其实/ TA/ 没/ 那么/ 喜欢/ 你/ 。\n",
      "[Default Mode]1/ \t/ 你/ 是不是/ 总是/ 会/ 为了/ 某人/ 而/ 不断/ 地/ 修改/ 自己/ 的/ 底线/ ？/ 不停/ 地为/ 某人/ 找/ 借口/ ，/ 不停/ 地想/ 去/ 原谅/ …/ …/ 可是/ ，/ 傻/ 孩子/ ，/ 其实/ TA/ 没/ 那么/ 喜欢/ 你/ 。\n",
      "[Search Mode]1/ \t/ 你/ 不是/ 是不是/ 总是/ 会/ 为了/ 某人/ 而/ 不断/ 地/ 修改/ 自己/ 的/ 底线/ ？/ 不停/ 地为/ 某人/ 找/ 借口/ ，/ 不停/ 地想/ 去/ 原谅/ …/ …/ 可是/ ，/ 傻/ 孩子/ ，/ 其实/ TA/ 没/ 那么/ 喜欢/ 你/ 。\n"
     ]
    }
   ],
   "source": [
    "#取得文章前5句用jieba分词\r\n",
    "import jieba\r\n",
    "import re\r\n",
    "with open('data/all_data.txt', mode='r', encoding='utf-8') as f:\r\n",
    "    for i in range(5): \r\n",
    "        text =f.readline().strip()\r\n",
    "        # print(f.readline().strip())\r\n",
    "        seg_list = jieba.cut(text, cut_all=True)\r\n",
    "        print(\"[Full Mode]\" + \"/ \".join(seg_list))     # 全模式\r\n",
    "\r\n",
    "        seg_list = jieba.cut(text, cut_all=False)\r\n",
    "        print(\"[Default Mode]\" + \"/ \".join(seg_list))  # 精确模式\r\n",
    "\r\n",
    "        seg_list = jieba.cut_for_search(text)          # 搜索引擎模式\r\n",
    "        print(\"[Search Mode]\" + \"/ \".join(seg_list))"
   ]
  },
  {
   "cell_type": "code",
   "execution_count": 47,
   "metadata": {
    "execution": {
     "iopub.execute_input": "2022-02-22T12:15:42.548846Z",
     "iopub.status.busy": "2022-02-22T12:15:42.547701Z",
     "iopub.status.idle": "2022-02-22T12:15:42.559989Z",
     "shell.execute_reply": "2022-02-22T12:15:42.559108Z",
     "shell.execute_reply.started": "2022-02-22T12:15:42.548789Z"
    },
    "scrolled": true
   },
   "outputs": [
    {
     "name": "stdout",
     "output_type": "stream",
     "text": [
      "幸福 0.5374818896842106\n",
      "时刻 0.5342669760852632\n",
      "女人 0.43734241134868423\n",
      "父母 0.33621368985789474\n",
      "就是 0.2840667716636842\n",
      "唠唠叨叨 0.2832943009473684\n",
      "几米 0.26563197795263155\n",
      "爱着 0.26505358567105264\n",
      "一切 0.2629713112952632\n",
      "无助 0.25218919838\n",
      "漫画 0.24384075430921054\n",
      "纵容 0.23731251919447366\n",
      "陶醉 0.23176124871500003\n",
      "老公 0.21927192495289471\n",
      "真心 0.21867607030157896\n",
      "安心 0.20807147959657896\n",
      "伸出 0.18765883355578947\n",
      "温暖 0.18469053107842107\n",
      "享受 0.16885023707078947\n",
      "多么 0.16741185779342105\n"
     ]
    }
   ],
   "source": [
    "# jieba词频统计\r\n",
    "from jieba import analyse\r\n",
    "\r\n",
    "extract_tags = analyse.extract_tags(text, withWeight=True)\r\n",
    "for i, j in extract_tags:\r\n",
    "    print(i, j)"
   ]
  },
  {
   "cell_type": "code",
   "execution_count": null,
   "metadata": {
    "scrolled": true
   },
   "outputs": [],
   "source": [
    "!pip install wordcloud"
   ]
  },
  {
   "cell_type": "code",
   "execution_count": 48,
   "metadata": {
    "execution": {
     "iopub.execute_input": "2022-02-22T12:15:49.187790Z",
     "iopub.status.busy": "2022-02-22T12:15:49.186766Z",
     "iopub.status.idle": "2022-02-22T12:15:49.407120Z",
     "shell.execute_reply": "2022-02-22T12:15:49.406453Z",
     "shell.execute_reply.started": "2022-02-22T12:15:49.187734Z"
    },
    "scrolled": true
   },
   "outputs": [
    {
     "name": "stderr",
     "output_type": "stream",
     "text": [
      "/opt/conda/envs/python35-paddle120-env/lib/python3.7/site-packages/matplotlib/font_manager.py:1331: UserWarning: findfont: Font family ['sans-serif'] not found. Falling back to DejaVu Sans\n",
      "  (prop.get_family(), self.defaultFamily[fontext]))\n"
     ]
    },
    {
     "data": {
      "image/png": "[encoded data removed]",
      "text/plain": [
       "<Figure size 432x288 with 1 Axes>"
      ]
     },
     "metadata": {
      "needs_background": "light"
     },
     "output_type": "display_data"
    }
   ],
   "source": [
    "# 词云可视化\r\n",
    "\r\n",
    "from wordcloud import WordCloud\r\n",
    "\r\n",
    "result = {}\r\n",
    "for word in extract_tags:\r\n",
    "    result[word[0]] = word[1]\r\n",
    "\r\n",
    "wordcloud = WordCloud(\r\n",
    "    background_color=\"white\",\r\n",
    "    max_font_size=50,\r\n",
    "    font_path='work/simkai.ttf')\r\n",
    "wordcloud.generate_from_frequencies(result)\r\n",
    "\r\n",
    "plt.figure()\r\n",
    "plt.axis('off')\r\n",
    "plt.imshow(wordcloud)\r\n",
    "plt.show()"
   ]
  },
  {
   "cell_type": "markdown",
   "metadata": {},
   "source": [
    "# 三、模型介绍\n",
    "<br/>本项目主要是为了讲解RNN以及BRNN，所以使用了vanilla RNN，lstm，bilstm，gru，bigru五个模型进行谣言分类任务。其中包含embedding层进行文本向量化，rnn层进行文本语义特征提取，全连接层进行层间的衔接或者最后的分类，用softmax层将最后结果映射到二维向量上。batchsize设置为256，epoch设置为50。\n",
    "\n",
    "## 3.1 搭建网络"
   ]
  },
  {
   "cell_type": "code",
   "execution_count": 10,
   "metadata": {
    "execution": {
     "iopub.execute_input": "2022-02-22T10:50:51.702630Z",
     "iopub.status.busy": "2022-02-22T10:50:51.702458Z",
     "iopub.status.idle": "2022-02-22T10:50:51.708129Z",
     "shell.execute_reply": "2022-02-22T10:50:51.707533Z",
     "shell.execute_reply.started": "2022-02-22T10:50:51.702612Z"
    },
    "scrolled": true
   },
   "outputs": [],
   "source": [
    "def rnn_net(ipt, input_dim): #   循环神经网络\n",
    "    # 以数据的IDs作为输入   ipt 输入 数据集 \n",
    "    emb = fluid.layers.embedding(input=ipt, size=[input_dim, 128],is_sparse=True)\n",
    "    drnn = fluid.layers.DynamicRNN()\n",
    "    with drnn.block():\n",
    "        # 将embedding标记为RNN的输入，每个时间步取句子中的一个字进行处理\n",
    "        word=drnn.step_input(emb)\n",
    "        # 将memory初始化为一个值为0的常量Tensor，shape=[batch_size, 200]，其中batch_size由输入embedding决定\n",
    "        memory = drnn.memory(shape=[200])\n",
    "        hidden = fluid.layers.fc(input=[word, memory], size=200, act='relu')\n",
    "        # 用hidden更新memory\n",
    "        drnn.update_memory(ex_mem=memory, new_mem=hidden)\n",
    "        # 将hidden标记为RNN的输出\n",
    "        drnn.output(hidden)\n",
    "    \n",
    "    # 最大序列池操作\n",
    "    fc = fluid.layers.sequence_pool(input=drnn(), pool_type='max')\n",
    "\n",
    "    # 以softmax作为全连接的输出层，大小为2,也就是正负面\n",
    "    out = fluid.layers.fc(input=fc, size=2, act='softmax')\n",
    "    return out"
   ]
  },
  {
   "cell_type": "code",
   "execution_count": 11,
   "metadata": {
    "execution": {
     "iopub.execute_input": "2022-02-22T10:50:51.710435Z",
     "iopub.status.busy": "2022-02-22T10:50:51.710203Z",
     "iopub.status.idle": "2022-02-22T10:50:51.715217Z",
     "shell.execute_reply": "2022-02-22T10:50:51.714673Z",
     "shell.execute_reply.started": "2022-02-22T10:50:51.710415Z"
    },
    "scrolled": true
   },
   "outputs": [],
   "source": [
    "def lstm_net(ipt, input_dim): # 长短期记忆网络\n",
    "\n",
    "    # 以数据的IDs作为输入\n",
    "\n",
    "    emb = fluid.layers.embedding(input=ipt, size=[input_dim, 128], is_sparse=True)\n",
    "\n",
    "    # 第一个全连接层\n",
    "\n",
    "    fc1 = fluid.layers.fc(input=emb, size=128)\n",
    "\n",
    "    # 进行一个长短期记忆操作\n",
    "\n",
    "    lstm1, _ = fluid.layers.dynamic_lstm(input=fc1, #返回：隐藏状态（hidden state），LSTM的神经元状态\n",
    "\n",
    "                                         size=128) #size=4*hidden_size\n",
    "\n",
    "    # 第一个最大序列池操作\n",
    "\n",
    "    fc2 = fluid.layers.sequence_pool(input=fc1, pool_type='max')\n",
    "\n",
    "    # 第二个最大序列池操作\n",
    "\n",
    "    lstm2 = fluid.layers.sequence_pool(input=lstm1, pool_type='max')\n",
    "\n",
    "    # 以softmax作为全连接的输出层，大小为2,也就是正负面\n",
    "\n",
    "    out = fluid.layers.fc(input=[fc2, lstm2], size=2, act='softmax')\n",
    "\n",
    "    return out"
   ]
  },
  {
   "cell_type": "code",
   "execution_count": 12,
   "metadata": {
    "execution": {
     "iopub.execute_input": "2022-02-22T10:50:51.716236Z",
     "iopub.status.busy": "2022-02-22T10:50:51.715918Z",
     "iopub.status.idle": "2022-02-22T10:50:51.722711Z",
     "shell.execute_reply": "2022-02-22T10:50:51.722094Z",
     "shell.execute_reply.started": "2022-02-22T10:50:51.716216Z"
    },
    "scrolled": true
   },
   "outputs": [],
   "source": [
    "def bilstm_net(ipt, input_dim): # 双向长短期神经网络\n",
    "    # 以数据的IDs作为输入\n",
    "    emb = fluid.layers.embedding(input=ipt, size=[input_dim, 128], is_sparse=True)\n",
    "    # 第一个全连接层\n",
    "    fc1_f = fluid.layers.fc(input=emb, size=128)\n",
    "    fc1_b = fluid.layers.fc(input=emb, size=128)\n",
    "    # 进行一个长短期记忆操作\n",
    "    lstm1_f, _ = fluid.layers.dynamic_lstm(input=fc1_f, #返回：隐藏状态（hidden state），LSTM的神经元状态\n",
    "                                         size=128) #size=4*hidden_size\n",
    "    lstm1_b, _ = fluid.layers.dynamic_lstm(input=fc1_b, #返回：隐藏状态（hidden state），LSTM的神经元状态\n",
    "                                        is_reverse = True,                \n",
    "                                         size=128) #size=4*hidden_size                                     \n",
    "    # 第一个最大序列池操作\n",
    "    fc2_f = fluid.layers.sequence_pool(input=fc1_f, pool_type='max')\n",
    "    fc2_b = fluid.layers.sequence_pool(input=fc1_b, pool_type='max')\n",
    "    # 第二个最大序列池操作\n",
    "    lstm2_f = fluid.layers.sequence_pool(input=lstm1_f, pool_type='max')\n",
    "    lstm2_b = fluid.layers.sequence_pool(input=lstm1_b, pool_type='max')\n",
    "\n",
    "    lstm2 = fluid.layers.concat(input=[lstm2_f, lstm2_b], axis=1)\n",
    "    fc2 = fluid.layers.concat(input=[fc2_f, fc2_b], axis=1)\n",
    "    # 以softmax作为全连接的输出层，大小为2,也就是正负面\n",
    "    out = fluid.layers.fc(input=[fc2, lstm2], size=2, act='softmax')\n",
    "    return out"
   ]
  },
  {
   "cell_type": "code",
   "execution_count": 13,
   "metadata": {
    "execution": {
     "iopub.execute_input": "2022-02-22T10:50:51.723706Z",
     "iopub.status.busy": "2022-02-22T10:50:51.723394Z",
     "iopub.status.idle": "2022-02-22T10:50:51.728338Z",
     "shell.execute_reply": "2022-02-22T10:50:51.727714Z",
     "shell.execute_reply.started": "2022-02-22T10:50:51.723685Z"
    },
    "scrolled": true
   },
   "outputs": [],
   "source": [
    "def gru_net(ipt, input_dim): # 门控循环单元\n",
    "    # 以数据的IDs作为输入\n",
    "    emb = fluid.layers.embedding(input=ipt, size=[input_dim, 128], is_sparse=True)\n",
    "    # 第一个全连接层\n",
    "    fc1 = fluid.layers.fc(input=emb, size=384)\n",
    "    # 进行一个长短期记忆操作\n",
    "    gru1= fluid.layers.dynamic_gru(input=fc1,size=128)\n",
    "    # 第一个最大序列池操作\n",
    "    fc2 = fluid.layers.sequence_pool(input=fc1, pool_type='max')\n",
    "    # 第二个最大序列池操作\n",
    "    gru2 = fluid.layers.sequence_pool(input=gru1, pool_type='max')\n",
    "    # 以softmax作为全连接的输出层，大小为2,也就是正负面\n",
    "    out = fluid.layers.fc(input=[fc2, gru2], size=2, act='softmax')\n",
    "    return out"
   ]
  },
  {
   "cell_type": "code",
   "execution_count": 14,
   "metadata": {
    "execution": {
     "iopub.execute_input": "2022-02-22T10:50:51.729170Z",
     "iopub.status.busy": "2022-02-22T10:50:51.729012Z",
     "iopub.status.idle": "2022-02-22T10:50:51.735227Z",
     "shell.execute_reply": "2022-02-22T10:50:51.734722Z",
     "shell.execute_reply.started": "2022-02-22T10:50:51.729152Z"
    },
    "scrolled": true
   },
   "outputs": [],
   "source": [
    "def bigru_net(ipt, input_dim): # 双向门控循环单元\n",
    "    # 以数据的IDs作为输入\n",
    "    emb = fluid.layers.embedding(input=ipt, size=[input_dim, 128], is_sparse=True)\n",
    "    # 第一个全连接层\n",
    "    fc1_f = fluid.layers.fc(input=emb, size=384)\n",
    "    fc1_b = fluid.layers.fc(input=emb, size=384)\n",
    "    # 进行一个长短期记忆操作\n",
    "    gru1_f= fluid.layers.dynamic_gru(input=fc1_f,size=128)\n",
    "    gru1_b= fluid.layers.dynamic_gru(input=fc1_b,size=128,is_reverse=True)\n",
    "    \n",
    "    # 第一个最大序列池操作\n",
    "    fc2_f = fluid.layers.sequence_pool(input=fc1_f, pool_type='max')\n",
    "    fc2_b = fluid.layers.sequence_pool(input=fc1_b, pool_type='max')\n",
    "    \n",
    "    # 第二个最大序列池操作\n",
    "    gru2_f = fluid.layers.sequence_pool(input=gru1_f, pool_type='max')\n",
    "    gru2_b = fluid.layers.sequence_pool(input=gru1_b, pool_type='max')\n",
    "    \n",
    "    gru2 = fluid.layers.concat(input=[gru2_f, gru2_b], axis=1)\n",
    "    fc2 = fluid.layers.concat(input=[fc2_f, fc2_b], axis=1)\n",
    "\n",
    "    # 以softmax作为全连接的输出层，大小为2,也就是正负面\n",
    "    out = fluid.layers.fc(input=[fc2, gru2], size=2, act='softmax')\n",
    "    return out"
   ]
  },
  {
   "cell_type": "markdown",
   "metadata": {},
   "source": [
    "## 3.2 定义数据层"
   ]
  },
  {
   "cell_type": "code",
   "execution_count": 15,
   "metadata": {
    "collapsed": false,
    "execution": {
     "iopub.execute_input": "2022-02-22T10:50:51.736302Z",
     "iopub.status.busy": "2022-02-22T10:50:51.735969Z",
     "iopub.status.idle": "2022-02-22T10:50:51.740104Z",
     "shell.execute_reply": "2022-02-22T10:50:51.739390Z",
     "shell.execute_reply.started": "2022-02-22T10:50:51.736282Z"
    },
    "jupyter": {
     "outputs_hidden": false
    },
    "scrolled": true
   },
   "outputs": [],
   "source": [
    "# 定义输入数据， lod_level不为0指定输入数据为序列数据\n",
    "paddle.enable_static()\n",
    "words = fluid.data(name='words', shape=[None,1], dtype='int64', lod_level=1) \n",
    "label = fluid.data(name='label', shape=[None,1], dtype='int64') \n"
   ]
  },
  {
   "cell_type": "markdown",
   "metadata": {},
   "source": [
    "\n",
    "## 3.3 获取分类器"
   ]
  },
  {
   "cell_type": "code",
   "execution_count": 16,
   "metadata": {
    "collapsed": false,
    "execution": {
     "iopub.execute_input": "2022-02-22T10:50:51.741183Z",
     "iopub.status.busy": "2022-02-22T10:50:51.740848Z",
     "iopub.status.idle": "2022-02-22T10:50:51.786540Z",
     "shell.execute_reply": "2022-02-22T10:50:51.785920Z",
     "shell.execute_reply.started": "2022-02-22T10:50:51.741161Z"
    },
    "jupyter": {
     "outputs_hidden": false
    },
    "scrolled": true
   },
   "outputs": [],
   "source": [
    "# 获取数据字典长度\n",
    "dict_dim = get_dict_len(dict_path)\n",
    "# 获取分类器\n",
    "# model = rnn_net(words, dict_dim) \n",
    "# model = lstm_net(words, dict_dim) \n",
    "# model = bilstm_net(words, dict_dim) \n",
    "# model = gru_net(words, dict_dim) \n",
    "model = bigru_net(words, dict_dim) \n",
    "\n"
   ]
  },
  {
   "cell_type": "markdown",
   "metadata": {},
   "source": [
    "## 3.4 定义损失函数和准确率\n",
    "\n",
    "定义了一个损失函数之后，还有对它求平均值，因为定义的是一个Batch的损失值。\n",
    "\n",
    "同时我们还可以定义一个准确率函数，这个可以在我们训练的时候输出分类的准确率。"
   ]
  },
  {
   "cell_type": "code",
   "execution_count": 17,
   "metadata": {
    "collapsed": false,
    "execution": {
     "iopub.execute_input": "2022-02-22T10:50:51.787929Z",
     "iopub.status.busy": "2022-02-22T10:50:51.787490Z",
     "iopub.status.idle": "2022-02-22T10:50:51.798315Z",
     "shell.execute_reply": "2022-02-22T10:50:51.797801Z",
     "shell.execute_reply.started": "2022-02-22T10:50:51.787904Z"
    },
    "jupyter": {
     "outputs_hidden": false
    },
    "scrolled": true
   },
   "outputs": [],
   "source": [
    "# 获取损失函数和准确率\n",
    "cost = fluid.layers.cross_entropy(input=model, label=label)\n",
    "avg_cost = fluid.layers.mean(cost)\n",
    "acc = fluid.layers.accuracy(input=model, label=label)\n",
    "# 获取预测程序\n",
    "test_program = fluid.default_main_program().clone(for_test=True)"
   ]
  },
  {
   "cell_type": "markdown",
   "metadata": {},
   "source": [
    "## 3.5 定义优化方法"
   ]
  },
  {
   "cell_type": "code",
   "execution_count": 18,
   "metadata": {
    "collapsed": false,
    "execution": {
     "iopub.execute_input": "2022-02-22T10:50:51.799311Z",
     "iopub.status.busy": "2022-02-22T10:50:51.799076Z",
     "iopub.status.idle": "2022-02-22T10:50:51.824555Z",
     "shell.execute_reply": "2022-02-22T10:50:51.824059Z",
     "shell.execute_reply.started": "2022-02-22T10:50:51.799290Z"
    },
    "jupyter": {
     "outputs_hidden": false
    },
    "scrolled": true
   },
   "outputs": [],
   "source": [
    "# 定义优化方法\n",
    "optimizer = fluid.optimizer.AdagradOptimizer(learning_rate=0.001)\n",
    "opt = optimizer.minimize(avg_cost)"
   ]
  },
  {
   "cell_type": "markdown",
   "metadata": {},
   "source": [
    "# 四、模型训练\n",
    "## 4.1 创建Executor"
   ]
  },
  {
   "cell_type": "code",
   "execution_count": 19,
   "metadata": {
    "collapsed": false,
    "execution": {
     "iopub.execute_input": "2022-02-22T10:50:51.825579Z",
     "iopub.status.busy": "2022-02-22T10:50:51.825326Z",
     "iopub.status.idle": "2022-02-22T10:50:57.638669Z",
     "shell.execute_reply": "2022-02-22T10:50:57.638044Z",
     "shell.execute_reply.started": "2022-02-22T10:50:51.825558Z"
    },
    "jupyter": {
     "outputs_hidden": false
    },
    "scrolled": true
   },
   "outputs": [
    {
     "name": "stderr",
     "output_type": "stream",
     "text": [
      "W0222 18:50:51.829311   733 device_context.cc:404] Please NOTE: device: 0, GPU Compute Capability: 7.0, Driver API Version: 10.1, Runtime API Version: 10.1\n",
      "W0222 18:50:51.834461   733 device_context.cc:422] device: 0, cuDNN Version: 7.6.\n"
     ]
    },
    {
     "data": {
      "text/plain": [
       "[]"
      ]
     },
     "execution_count": 19,
     "metadata": {},
     "output_type": "execute_result"
    }
   ],
   "source": [
    "# use_cuda为False,表示运算场所为CPU;use_cuda为True,表示运算场所为GPU \n",
    "use_cuda = True \n",
    "place = fluid.CUDAPlace(0) if use_cuda else fluid.CPUPlace()\n",
    "exe = fluid.Executor(place)  \n",
    "# 进行参数初始化\n",
    "exe.run(fluid.default_startup_program())\n"
   ]
  },
  {
   "cell_type": "markdown",
   "metadata": {},
   "source": [
    "## 4.2 定义数据映射器\n",
    "\n",
    "\n",
    "DataFeeder负责将数据提供器（train_reader,test_reader）返回的数据转成一种特殊的数据结构，使其可以输入到Executor中。\n",
    "\n",
    "feed_list设置向模型输入的向变量表或者变量表名"
   ]
  },
  {
   "cell_type": "code",
   "execution_count": 20,
   "metadata": {
    "collapsed": false,
    "execution": {
     "iopub.execute_input": "2022-02-22T10:50:57.640175Z",
     "iopub.status.busy": "2022-02-22T10:50:57.639687Z",
     "iopub.status.idle": "2022-02-22T10:50:57.643303Z",
     "shell.execute_reply": "2022-02-22T10:50:57.642823Z",
     "shell.execute_reply.started": "2022-02-22T10:50:57.640147Z"
    },
    "jupyter": {
     "outputs_hidden": false
    },
    "scrolled": true
   },
   "outputs": [],
   "source": [
    "# 定义数据映射器\n",
    "feeder = fluid.DataFeeder(place=place, feed_list=[words, label])"
   ]
  },
  {
   "cell_type": "markdown",
   "metadata": {},
   "source": [
    "## 4.3 展示模型训练曲线"
   ]
  },
  {
   "cell_type": "code",
   "execution_count": 21,
   "metadata": {
    "collapsed": false,
    "execution": {
     "iopub.execute_input": "2022-02-22T10:50:57.644618Z",
     "iopub.status.busy": "2022-02-22T10:50:57.644268Z",
     "iopub.status.idle": "2022-02-22T10:50:57.649525Z",
     "shell.execute_reply": "2022-02-22T10:50:57.648907Z",
     "shell.execute_reply.started": "2022-02-22T10:50:57.644597Z"
    },
    "jupyter": {
     "outputs_hidden": false
    },
    "scrolled": true
   },
   "outputs": [],
   "source": [
    "all_train_iter=0\n",
    "all_train_iters=[]\n",
    "all_train_costs=[]\n",
    "all_train_accs=[]\n",
    "\n",
    "all_eval_iter=0\n",
    "all_eval_iters=[]\n",
    "all_eval_costs=[]\n",
    "all_eval_accs=[]\n",
    "\n",
    "\n",
    "def draw_process(title,iters,costs,accs,label_cost,lable_acc):\n",
    "    plt.title(title, fontsize=24)\n",
    "    plt.xlabel(\"iter\", fontsize=20)\n",
    "    plt.ylabel(\"cost/acc\", fontsize=20)\n",
    "    plt.plot(iters, costs,color='red',label=label_cost) \n",
    "    plt.plot(iters, accs,color='green',label=lable_acc) \n",
    "    plt.legend()\n",
    "    plt.grid()\n",
    "    plt.show()"
   ]
  },
  {
   "cell_type": "markdown",
   "metadata": {},
   "source": [
    "\n",
    "## 4.4 训练并保存模型\n",
    "\n",
    "Executor接收传入的program,并根据feed map(输入映射表)和fetch_list(结果获取表) 向program中添加feed operators(数据输入算子)和fetch operators（结果获取算子)。\n",
    "\n",
    "feed map为该program提供输入数据。fetch_list提供program训练结束后用户预期的变量。\n",
    "\n",
    "每一轮训练结束之后，再使用验证集进行验证，并求出相应的损失值Cost和准确率acc。"
   ]
  },
  {
   "cell_type": "code",
   "execution_count": 22,
   "metadata": {
    "collapsed": false,
    "execution": {
     "iopub.execute_input": "2022-02-22T10:50:57.650791Z",
     "iopub.status.busy": "2022-02-22T10:50:57.650476Z",
     "iopub.status.idle": "2022-02-22T10:51:40.360552Z",
     "shell.execute_reply": "2022-02-22T10:51:40.359973Z",
     "shell.execute_reply.started": "2022-02-22T10:50:57.650770Z"
    },
    "jupyter": {
     "outputs_hidden": false
    },
    "scrolled": true
   },
   "outputs": [
    {
     "name": "stdout",
     "output_type": "stream",
     "text": [
      "epoch: 1\n",
      "Pass:0, Batch:0, Cost:0.69203, Acc:0.51953\n",
      "Pass:0, Batch:10, Cost:0.67014, Acc:0.50391\n",
      "Test:0, Cost:0.65510, ACC:0.71168\n",
      "epoch: 2\n",
      "Pass:1, Batch:0, Cost:0.64882, Acc:0.74219\n",
      "Pass:1, Batch:10, Cost:0.64281, Acc:0.67578\n",
      "Test:1, Cost:0.63516, ACC:0.79436\n",
      "epoch: 3\n",
      "Pass:2, Batch:0, Cost:0.62226, Acc:0.82031\n",
      "Pass:2, Batch:10, Cost:0.61685, Acc:0.76953\n",
      "Test:2, Cost:0.61762, ACC:0.79436\n",
      "epoch: 4\n",
      "Pass:3, Batch:0, Cost:0.60022, Acc:0.82812\n",
      "Pass:3, Batch:10, Cost:0.60002, Acc:0.80078\n",
      "Test:3, Cost:0.60166, ACC:0.79343\n",
      "epoch: 5\n",
      "Pass:4, Batch:0, Cost:0.58065, Acc:0.82422\n",
      "Pass:4, Batch:10, Cost:0.57921, Acc:0.82031\n",
      "Test:4, Cost:0.58692, ACC:0.80218\n",
      "epoch: 6\n",
      "Pass:5, Batch:0, Cost:0.56075, Acc:0.82812\n",
      "Pass:5, Batch:10, Cost:0.56342, Acc:0.83203\n",
      "Test:5, Cost:0.57275, ACC:0.80227\n",
      "epoch: 7\n",
      "Pass:6, Batch:0, Cost:0.54153, Acc:0.83984\n",
      "Pass:6, Batch:10, Cost:0.54354, Acc:0.83984\n",
      "Test:6, Cost:0.55704, ACC:0.81017\n",
      "epoch: 8\n",
      "Pass:7, Batch:0, Cost:0.52437, Acc:0.83984\n",
      "Pass:7, Batch:10, Cost:0.52121, Acc:0.84375\n",
      "Test:7, Cost:0.53822, ACC:0.80320\n",
      "epoch: 9\n",
      "Pass:8, Batch:0, Cost:0.49849, Acc:0.85547\n",
      "Pass:8, Batch:10, Cost:0.47516, Acc:0.83203\n",
      "Test:8, Cost:0.50860, ACC:0.81492\n",
      "epoch: 10\n",
      "Pass:9, Batch:0, Cost:0.45793, Acc:0.86328\n",
      "Pass:9, Batch:10, Cost:0.37879, Acc:0.88672\n",
      "Test:9, Cost:0.40749, ACC:0.82078\n",
      "epoch: 11\n",
      "Pass:10, Batch:0, Cost:0.30935, Acc:0.91797\n",
      "Pass:10, Batch:10, Cost:0.32538, Acc:0.89453\n",
      "Test:10, Cost:0.41384, ACC:0.83938\n",
      "epoch: 12\n",
      "Pass:11, Batch:0, Cost:0.30867, Acc:0.89844\n",
      "Pass:11, Batch:10, Cost:0.27199, Acc:0.92188\n",
      "Test:11, Cost:0.38541, ACC:0.81176\n",
      "epoch: 13\n",
      "Pass:12, Batch:0, Cost:0.26740, Acc:0.91797\n",
      "Pass:12, Batch:10, Cost:0.25267, Acc:0.92188\n",
      "Test:12, Cost:0.39328, ACC:0.83157\n",
      "epoch: 14\n",
      "Pass:13, Batch:0, Cost:0.22596, Acc:0.92969\n",
      "Pass:13, Batch:10, Cost:0.23441, Acc:0.92578\n",
      "Test:13, Cost:0.37852, ACC:0.83845\n",
      "epoch: 15\n",
      "Pass:14, Batch:0, Cost:0.21926, Acc:0.93359\n",
      "Pass:14, Batch:10, Cost:0.19297, Acc:0.94141\n",
      "Test:14, Cost:0.37255, ACC:0.84235\n",
      "epoch: 16\n",
      "Pass:15, Batch:0, Cost:0.19842, Acc:0.94531\n",
      "Pass:15, Batch:10, Cost:0.18592, Acc:0.93750\n",
      "Test:15, Cost:0.37106, ACC:0.84831\n",
      "epoch: 17\n",
      "Pass:16, Batch:0, Cost:0.18580, Acc:0.94922\n",
      "Pass:16, Batch:10, Cost:0.22160, Acc:0.89844\n",
      "Test:16, Cost:0.42710, ACC:0.83640\n",
      "epoch: 18\n",
      "Pass:17, Batch:0, Cost:0.21025, Acc:0.94141\n",
      "Pass:17, Batch:10, Cost:0.15188, Acc:0.96484\n",
      "Test:17, Cost:0.37642, ACC:0.85714\n",
      "epoch: 19\n",
      "Pass:18, Batch:0, Cost:0.17858, Acc:0.94922\n",
      "Pass:18, Batch:10, Cost:0.14270, Acc:0.96094\n",
      "Test:18, Cost:0.39110, ACC:0.84831\n",
      "epoch: 20\n",
      "Pass:19, Batch:0, Cost:0.17402, Acc:0.94922\n",
      "Pass:19, Batch:10, Cost:0.13109, Acc:0.96875\n",
      "Test:19, Cost:0.36932, ACC:0.85324\n",
      "epoch: 21\n",
      "Pass:20, Batch:0, Cost:0.16532, Acc:0.95312\n",
      "Pass:20, Batch:10, Cost:0.12548, Acc:0.96484\n",
      "Test:20, Cost:0.38311, ACC:0.84933\n",
      "epoch: 22\n",
      "Pass:21, Batch:0, Cost:0.15115, Acc:0.96094\n",
      "Pass:21, Batch:10, Cost:0.15349, Acc:0.96094\n",
      "Test:21, Cost:0.36705, ACC:0.85724\n",
      "epoch: 23\n",
      "Pass:22, Batch:0, Cost:0.15398, Acc:0.96094\n",
      "Pass:22, Batch:10, Cost:0.13071, Acc:0.96875\n",
      "Test:22, Cost:0.38159, ACC:0.85528\n",
      "epoch: 24\n",
      "Pass:23, Batch:0, Cost:0.14110, Acc:0.96484\n",
      "Pass:23, Batch:10, Cost:0.11199, Acc:0.97266\n",
      "Test:23, Cost:0.37940, ACC:0.86709\n",
      "epoch: 25\n",
      "Pass:24, Batch:0, Cost:0.13835, Acc:0.96875\n",
      "Pass:24, Batch:10, Cost:0.13327, Acc:0.96484\n",
      "Test:24, Cost:0.39095, ACC:0.86114\n",
      "epoch: 26\n",
      "Pass:25, Batch:0, Cost:0.13669, Acc:0.96484\n",
      "Pass:25, Batch:10, Cost:0.10829, Acc:0.97266\n",
      "Test:25, Cost:0.38699, ACC:0.86709\n",
      "epoch: 27\n",
      "Pass:26, Batch:0, Cost:0.13355, Acc:0.96875\n",
      "Pass:26, Batch:10, Cost:0.10978, Acc:0.97656\n",
      "Test:26, Cost:0.39236, ACC:0.85817\n",
      "epoch: 28\n",
      "Pass:27, Batch:0, Cost:0.13286, Acc:0.97266\n",
      "Pass:27, Batch:10, Cost:0.10359, Acc:0.98047\n",
      "Test:27, Cost:0.38496, ACC:0.86412\n",
      "epoch: 29\n",
      "Pass:28, Batch:0, Cost:0.12605, Acc:0.96875\n",
      "Pass:28, Batch:10, Cost:0.21985, Acc:0.88672\n",
      "Test:28, Cost:0.41439, ACC:0.85612\n",
      "epoch: 30\n",
      "Pass:29, Batch:0, Cost:0.17567, Acc:0.92969\n",
      "Pass:29, Batch:10, Cost:0.10414, Acc:0.98047\n",
      "Test:29, Cost:0.37211, ACC:0.86802\n",
      "epoch: 31\n",
      "Pass:30, Batch:0, Cost:0.12353, Acc:0.96484\n",
      "Pass:30, Batch:10, Cost:0.08651, Acc:0.98438\n",
      "Test:30, Cost:0.36962, ACC:0.86607\n",
      "epoch: 32\n",
      "Pass:31, Batch:0, Cost:0.12131, Acc:0.96484\n",
      "Pass:31, Batch:10, Cost:0.08245, Acc:0.98438\n",
      "Test:31, Cost:0.40446, ACC:0.85807\n",
      "epoch: 33\n",
      "Pass:32, Batch:0, Cost:0.18961, Acc:0.94922\n",
      "Pass:32, Batch:10, Cost:0.08955, Acc:0.98438\n",
      "Test:32, Cost:0.39023, ACC:0.86998\n",
      "epoch: 34\n",
      "Pass:33, Batch:0, Cost:0.12163, Acc:0.96875\n",
      "Pass:33, Batch:10, Cost:0.08278, Acc:0.98438\n",
      "Test:33, Cost:0.40636, ACC:0.86998\n",
      "epoch: 35\n",
      "Pass:34, Batch:0, Cost:0.11693, Acc:0.96484\n",
      "Pass:34, Batch:10, Cost:0.07946, Acc:0.98438\n",
      "Test:34, Cost:0.38840, ACC:0.87091\n",
      "epoch: 36\n",
      "Pass:35, Batch:0, Cost:0.11351, Acc:0.96484\n",
      "Pass:35, Batch:10, Cost:0.07779, Acc:0.98438\n",
      "Test:35, Cost:0.37328, ACC:0.88179\n",
      "epoch: 37\n",
      "Pass:36, Batch:0, Cost:0.10532, Acc:0.96875\n",
      "Pass:36, Batch:10, Cost:0.07675, Acc:0.98438\n",
      "Test:36, Cost:0.38598, ACC:0.88077\n",
      "epoch: 38\n",
      "Pass:37, Batch:0, Cost:0.10901, Acc:0.97266\n",
      "Pass:37, Batch:10, Cost:0.07740, Acc:0.98047\n",
      "Test:37, Cost:0.37533, ACC:0.88867\n",
      "epoch: 39\n",
      "Pass:38, Batch:0, Cost:0.11186, Acc:0.96094\n",
      "Pass:38, Batch:10, Cost:0.09081, Acc:0.97656\n",
      "Test:38, Cost:0.37059, ACC:0.88179\n",
      "epoch: 40\n",
      "Pass:39, Batch:0, Cost:0.12452, Acc:0.95312\n",
      "Pass:39, Batch:10, Cost:0.07343, Acc:0.98438\n",
      "Test:39, Cost:0.36976, ACC:0.88179\n",
      "epoch: 41\n",
      "Pass:40, Batch:0, Cost:0.10152, Acc:0.97266\n",
      "Pass:40, Batch:10, Cost:0.07155, Acc:0.98438\n",
      "Test:40, Cost:0.38008, ACC:0.88272\n",
      "epoch: 42\n",
      "Pass:41, Batch:0, Cost:0.09809, Acc:0.97266\n",
      "Pass:41, Batch:10, Cost:0.07164, Acc:0.98438\n",
      "Test:41, Cost:0.42733, ACC:0.86793\n",
      "epoch: 43\n",
      "Pass:42, Batch:0, Cost:0.14835, Acc:0.96484\n",
      "Pass:42, Batch:10, Cost:0.09550, Acc:0.98047\n",
      "Test:42, Cost:0.35722, ACC:0.88179\n",
      "epoch: 44\n",
      "Pass:43, Batch:0, Cost:0.11256, Acc:0.97656\n",
      "Pass:43, Batch:10, Cost:0.07757, Acc:0.97656\n",
      "Test:43, Cost:0.37862, ACC:0.88086\n",
      "epoch: 45\n",
      "Pass:44, Batch:0, Cost:0.10090, Acc:0.97266\n",
      "Pass:44, Batch:10, Cost:0.07121, Acc:0.98438\n",
      "Test:44, Cost:0.37765, ACC:0.87593\n",
      "epoch: 46\n",
      "Pass:45, Batch:0, Cost:0.08386, Acc:0.98047\n",
      "Pass:45, Batch:10, Cost:0.12378, Acc:0.94141\n",
      "Test:45, Cost:0.37178, ACC:0.87388\n",
      "epoch: 47\n",
      "Pass:46, Batch:0, Cost:0.11084, Acc:0.97266\n",
      "Pass:46, Batch:10, Cost:0.07104, Acc:0.98438\n",
      "Test:46, Cost:0.38663, ACC:0.87891\n",
      "epoch: 48\n",
      "Pass:47, Batch:0, Cost:0.08208, Acc:0.98047\n",
      "Pass:47, Batch:10, Cost:0.06750, Acc:0.98438\n",
      "Test:47, Cost:0.37120, ACC:0.88281\n",
      "epoch: 49\n",
      "Pass:48, Batch:0, Cost:0.07992, Acc:0.98047\n",
      "Pass:48, Batch:10, Cost:0.07127, Acc:0.97656\n",
      "Test:48, Cost:0.37894, ACC:0.88281\n",
      "epoch: 50\n",
      "Pass:49, Batch:0, Cost:0.07776, Acc:0.98047\n",
      "Pass:49, Batch:10, Cost:0.06625, Acc:0.98438\n",
      "Test:49, Cost:0.38017, ACC:0.87984\n",
      "训练模型保存完成！\n"
     ]
    },
    {
     "name": "stderr",
     "output_type": "stream",
     "text": [
      "/opt/conda/envs/python35-paddle120-env/lib/python3.7/site-packages/matplotlib/cbook/__init__.py:2349: DeprecationWarning: Using or importing the ABCs from 'collections' instead of from 'collections.abc' is deprecated, and in 3.8 it will stop working\n",
      "  if isinstance(obj, collections.Iterator):\n",
      "/opt/conda/envs/python35-paddle120-env/lib/python3.7/site-packages/matplotlib/cbook/__init__.py:2366: DeprecationWarning: Using or importing the ABCs from 'collections' instead of from 'collections.abc' is deprecated, and in 3.8 it will stop working\n",
      "  return list(data) if isinstance(data, collections.MappingView) else data\n"
     ]
    },
    {
     "data": {
      "image/png": "[encoded data removed]",
      "text/plain": [
       "<Figure size 432x288 with 1 Axes>"
      ]
     },
     "metadata": {
      "needs_background": "light"
     },
     "output_type": "display_data"
    },
    {
     "data": {
      "image/png": "[encoded data removed]",
      "text/plain": [
       "<Figure size 432x288 with 1 Axes>"
      ]
     },
     "metadata": {
      "needs_background": "light"
     },
     "output_type": "display_data"
    }
   ],
   "source": [
    "EPOCH_NUM=50                                       #训练轮数\n",
    "model_save_dir = '/home/aistudio/work/infer_model/' #模型保存路径\n",
    "# 开始训练\n",
    "\n",
    "for pass_id in range(EPOCH_NUM):\n",
    "    # 进行训练\n",
    "    print('epoch:',int(pass_id)+1)\n",
    "    for batch_id, data in enumerate(train_reader()):\n",
    "        train_cost, train_acc = exe.run(program=fluid.default_main_program(),\n",
    "                             feed=feeder.feed(data),\n",
    "                             fetch_list=[avg_cost, acc])\n",
    "        all_train_iter=all_train_iter+BATCH_SIZE\n",
    "        all_train_iters.append(all_train_iter)\n",
    "        all_train_costs.append(train_cost[0])\n",
    "        all_train_accs.append(train_acc[0])\n",
    "        \n",
    "        if batch_id % 10 == 0:\n",
    "            print('Pass:%d, Batch:%d, Cost:%0.5f, Acc:%0.5f' % (pass_id, batch_id, train_cost[0], train_acc[0]))\n",
    "    # 进行验证\n",
    "    eval_costs = []\n",
    "    eval_accs = []\n",
    "    for batch_id, data in enumerate(eval_reader()):\n",
    "        eval_cost, eval_acc = exe.run(program=test_program,\n",
    "                                              feed=feeder.feed(data),\n",
    "                                              fetch_list=[avg_cost, acc])\n",
    "        eval_costs.append(eval_cost[0])\n",
    "        eval_accs.append(eval_acc[0])\n",
    "        \n",
    "        all_eval_iter=all_eval_iter+BATCH_SIZE\n",
    "        all_eval_iters.append(all_eval_iter)\n",
    "        all_eval_costs.append(eval_cost[0])                                       \n",
    "        all_eval_accs.append(eval_acc[0])      \n",
    "    # 计算平均预测损失在和准确率\n",
    "    eval_cost = (sum(eval_costs) / len(eval_costs))\n",
    "    eval_acc = (sum(eval_accs) / len(eval_accs))\n",
    "    print('Test:%d, Cost:%0.5f, ACC:%0.5f' % (pass_id, eval_cost, eval_acc))\n",
    "\n",
    "# 保存模型\n",
    "if not os.path.exists(model_save_dir): \n",
    "    os.makedirs(model_save_dir) \n",
    "fluid.io.save_inference_model(model_save_dir, \n",
    "                            feeded_var_names=[words.name], \n",
    "                            target_vars=[model], \n",
    "                            executor=exe)\n",
    "print('训练模型保存完成！') \n",
    "\n",
    "draw_process(\"train\",all_train_iters,all_train_costs,all_train_accs,\"trainning cost\",\"trainning acc\")\n",
    "draw_process(\"eval\",all_eval_iters,all_eval_costs,all_eval_accs,\"evaling cost\",\"evaling acc\")"
   ]
  },
  {
   "cell_type": "markdown",
   "metadata": {},
   "source": [
    "\n",
    "# 五、模型评估\n",
    "模型在训练时同时输出了在验证集上的评估结果，见上方训练输出图像。下方代码展示模型预测效果\n"
   ]
  },
  {
   "cell_type": "code",
   "execution_count": 23,
   "metadata": {
    "collapsed": false,
    "execution": {
     "iopub.execute_input": "2022-02-22T10:51:40.362084Z",
     "iopub.status.busy": "2022-02-22T10:51:40.361845Z",
     "iopub.status.idle": "2022-02-22T10:51:40.479129Z",
     "shell.execute_reply": "2022-02-22T10:51:40.478487Z",
     "shell.execute_reply.started": "2022-02-22T10:51:40.362059Z"
    },
    "jupyter": {
     "outputs_hidden": false
    },
    "scrolled": true
   },
   "outputs": [
    {
     "name": "stdout",
     "output_type": "stream",
     "text": [
      "预测结果标签为：0， 分类为：谣言， 概率为：0.997949\n",
      "预测结果标签为：0， 分类为：谣言， 概率为：0.994011\n",
      "预测结果标签为：1， 分类为：非谣言， 概率为：0.531892\n"
     ]
    }
   ],
   "source": [
    "# 用训练好的模型进行预测并输出预测结果\n",
    "# 创建执行器\n",
    "place = fluid.CPUPlace()\n",
    "infer_exe = fluid.Executor(place)\n",
    "infer_exe.run(fluid.default_startup_program())\n",
    "\n",
    "save_path = '/home/aistudio/work/infer_model/'\n",
    "\n",
    "# 从模型中获取预测程序、输入数据名称列表、分类器\n",
    "[infer_program, feeded_var_names, target_var] = fluid.io.load_inference_model(dirname=save_path, executor=infer_exe)\n",
    "\n",
    "\n",
    "# 获取数据\n",
    "def get_data(sentence):\n",
    "    # 读取数据字典\n",
    "    with open('/home/aistudio/data/dict.txt', 'r', encoding='utf-8') as f_data:\n",
    "        dict_txt = eval(f_data.readlines()[0])\n",
    "    dict_txt = dict(dict_txt)\n",
    "    # 把字符串数据转换成列表数据\n",
    "    keys = dict_txt.keys()\n",
    "    data = []\n",
    "    for s in sentence:\n",
    "        # 判断是否存在未知字符\n",
    "        if not s in keys:\n",
    "            s = '<unk>'\n",
    "        data.append(int(dict_txt[s]))\n",
    "    return data\n",
    "\n",
    "\n",
    "data = []\n",
    "# 获取图片数据\n",
    "data1 = get_data('兴仁县今天抢小孩没抢走，把孩子母亲捅了一刀，看见这车的注意了，真事，车牌号辽HFM055！！！！！赶紧散播！ 都别带孩子出去瞎转悠了 尤其别让老人自己带孩子出去 太危险了 注意了！！！！辽HFM055北京现代朗动，在各学校门口抢小孩！！！110已经 证实！！全市通缉！！')\n",
    "data2 = get_data('重庆真实新闻:2016年6月1日在重庆梁平县袁驿镇发生一起抢儿童事件，做案人三个中年男人，在三中学校到镇街上的一条小路上，把小孩直接弄晕(儿童是袁驿新幼儿园中班的一名学生)，正准备带走时被家长及时发现用棒子赶走了做案人，故此获救！请各位同胞们以此引起非常重视，希望大家有爱心的人传递下')\n",
    "data3 = get_data('@尾熊C 要提前预习育儿知识的话，建议看一些小巫写的书，嘻嘻')\n",
    "data.append(data1)\n",
    "data.append(data2)\n",
    "data.append(data3)\n",
    "\n",
    "# 获取每句话的单词数量\n",
    "base_shape = [[len(c) for c in data]]\n",
    "\n",
    "# 生成预测数据\n",
    "tensor_words = fluid.create_lod_tensor(data, base_shape, place)\n",
    "\n",
    "# 执行预测\n",
    "result = exe.run(program=infer_program,\n",
    "                 feed={feeded_var_names[0]: tensor_words},\n",
    "                 fetch_list=target_var)\n",
    "\n",
    "# 分类名称\n",
    "names = [ '谣言', '非谣言']\n",
    "\n",
    "# 获取结果概率最大的label\n",
    "for i in range(len(data)):\n",
    "    lab = np.argsort(result)[0][i][-1]\n",
    "    print('预测结果标签为：%d， 分类为：%s， 概率为：%f' % (lab, names[lab], result[0][i][lab]))"
   ]
  },
  {
   "cell_type": "markdown",
   "metadata": {},
   "source": [
    "# 六、总结与升华\n",
    "本项目基于paddle框架，使用了RNN家族的模型，详细介绍了从数据集的处理再到模型的搭建，最后到模型的评估。适合想系统了解循环神经网络并且增加项目实战经验的初学者。但是也存在着一定的不足，例如数据集比较小，使用复杂的模型容易过拟合。后期可能会更换更大的数据集或者使用数据集增强，然后使用更加复杂的模型比如预训练模型，或者加入注意力机制。"
   ]
  },
  {
   "cell_type": "markdown",
   "metadata": {},
   "source": [
    "# 七、个人总结\n",
    "\n",
    "> 作者 ： f_g\n",
    "\n",
    "> 研究方向 ：多模态，假新闻检测\n",
    "\n",
    "> 深度学习初学者，比赛新手。希望可以在paddlepaddle提供的平台上广结良师益友互相学习共同进步。\n",
    "\n",
    "> 我在AI Studio上获得白银等级，点亮2个徽章，来互关呀~ https://aistudio.baidu.com/aistudio/personalcenter/thirdview/788652"
   ]
  }
 ],
 "metadata": {
  "kernelspec": {
   "display_name": "Python 3",
   "language": "python",
   "name": "py35-paddle1.2.0"
  },
  "language_info": {
   "codemirror_mode": {
    "name": "ipython",
    "version": 3
   },
   "file_extension": ".py",
   "mimetype": "text/x-python",
   "name": "python",
   "nbconvert_exporter": "python",
   "pygments_lexer": "ipython3",
   "version": "3.7.4"
  }
 },
 "nbformat": 4,
 "nbformat_minor": 4
}
